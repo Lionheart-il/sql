{
 "cells": [
  {
   "cell_type": "markdown",
   "metadata": {},
   "source": [
    "Find Active users that logged in to their accounts for 5 or more consecutive days."
   ]
  },
  {
   "cell_type": "code",
   "execution_count": 18,
   "metadata": {},
   "outputs": [],
   "source": [
    "from google.cloud import bigquery\n",
    "from google.oauth2 import service_account\n",
    "from google.cloud import bigquery_storage\n",
    "import pandas as pd\n",
    "import os"
   ]
  },
  {
   "cell_type": "code",
   "execution_count": 19,
   "metadata": {},
   "outputs": [],
   "source": [
    "credentials = service_account.Credentials.from_service_account_file(\"/Users/al/Downloads/bq.json\")\n",
    "project_id = 'ga-data-1250'\n",
    "bqclient = bigquery.Client(credentials=credentials, project=project_id)\n",
    "bqstorageclient = bigquery_storage.BigQueryReadClient(credentials=credentials)"
   ]
  },
  {
   "cell_type": "code",
   "execution_count": 20,
   "metadata": {},
   "outputs": [],
   "source": [
    "query = \"\"\"\n",
    "SELECT DISTINCT\n",
    "        fullVisitorId AS user_id, \n",
    "        DATE(TIMESTAMP_SECONDS(visitStartTime)) AS visit_day\n",
    "FROM `bigquery-public-data.google_analytics_sample.ga_sessions_201701*`\n",
    "LIMIT 10\n",
    "\"\"\"\n",
    "\n",
    "results = (\n",
    "    bqclient.query(query)\n",
    "            .result()\n",
    "            .to_dataframe(\n",
    "                bqstorage_client=bqstorageclient)\n",
    ")\n"
   ]
  },
  {
   "cell_type": "code",
   "execution_count": 21,
   "metadata": {},
   "outputs": [
    {
     "data": {
      "text/html": [
       "<div>\n",
       "<style scoped>\n",
       "    .dataframe tbody tr th:only-of-type {\n",
       "        vertical-align: middle;\n",
       "    }\n",
       "\n",
       "    .dataframe tbody tr th {\n",
       "        vertical-align: top;\n",
       "    }\n",
       "\n",
       "    .dataframe thead th {\n",
       "        text-align: right;\n",
       "    }\n",
       "</style>\n",
       "<table border=\"1\" class=\"dataframe\">\n",
       "  <thead>\n",
       "    <tr style=\"text-align: right;\">\n",
       "      <th></th>\n",
       "      <th>user_id</th>\n",
       "      <th>visit_day</th>\n",
       "    </tr>\n",
       "  </thead>\n",
       "  <tbody>\n",
       "    <tr>\n",
       "      <th>0</th>\n",
       "      <td>0766527698986579906</td>\n",
       "      <td>2017-01-24</td>\n",
       "    </tr>\n",
       "    <tr>\n",
       "      <th>1</th>\n",
       "      <td>6961365578873598870</td>\n",
       "      <td>2017-01-24</td>\n",
       "    </tr>\n",
       "    <tr>\n",
       "      <th>2</th>\n",
       "      <td>9324540754975564389</td>\n",
       "      <td>2017-01-24</td>\n",
       "    </tr>\n",
       "    <tr>\n",
       "      <th>3</th>\n",
       "      <td>4270470652366319162</td>\n",
       "      <td>2017-01-24</td>\n",
       "    </tr>\n",
       "    <tr>\n",
       "      <th>4</th>\n",
       "      <td>8472838377035107933</td>\n",
       "      <td>2017-01-25</td>\n",
       "    </tr>\n",
       "    <tr>\n",
       "      <th>5</th>\n",
       "      <td>4187864778112777591</td>\n",
       "      <td>2017-01-24</td>\n",
       "    </tr>\n",
       "    <tr>\n",
       "      <th>6</th>\n",
       "      <td>0744438076926814772</td>\n",
       "      <td>2017-01-25</td>\n",
       "    </tr>\n",
       "    <tr>\n",
       "      <th>7</th>\n",
       "      <td>7541036483940304988</td>\n",
       "      <td>2017-01-25</td>\n",
       "    </tr>\n",
       "    <tr>\n",
       "      <th>8</th>\n",
       "      <td>9620460454484605087</td>\n",
       "      <td>2017-01-24</td>\n",
       "    </tr>\n",
       "    <tr>\n",
       "      <th>9</th>\n",
       "      <td>4717688672026497695</td>\n",
       "      <td>2017-01-25</td>\n",
       "    </tr>\n",
       "  </tbody>\n",
       "</table>\n",
       "</div>"
      ],
      "text/plain": [
       "               user_id   visit_day\n",
       "0  0766527698986579906  2017-01-24\n",
       "1  6961365578873598870  2017-01-24\n",
       "2  9324540754975564389  2017-01-24\n",
       "3  4270470652366319162  2017-01-24\n",
       "4  8472838377035107933  2017-01-25\n",
       "5  4187864778112777591  2017-01-24\n",
       "6  0744438076926814772  2017-01-25\n",
       "7  7541036483940304988  2017-01-25\n",
       "8  9620460454484605087  2017-01-24\n",
       "9  4717688672026497695  2017-01-25"
      ]
     },
     "execution_count": 21,
     "metadata": {},
     "output_type": "execute_result"
    }
   ],
   "source": [
    "results"
   ]
  },
  {
   "cell_type": "code",
   "execution_count": 23,
   "metadata": {},
   "outputs": [
    {
     "data": {
      "text/html": [
       "<div>\n",
       "<style scoped>\n",
       "    .dataframe tbody tr th:only-of-type {\n",
       "        vertical-align: middle;\n",
       "    }\n",
       "\n",
       "    .dataframe tbody tr th {\n",
       "        vertical-align: top;\n",
       "    }\n",
       "\n",
       "    .dataframe thead th {\n",
       "        text-align: right;\n",
       "    }\n",
       "</style>\n",
       "<table border=\"1\" class=\"dataframe\">\n",
       "  <thead>\n",
       "    <tr style=\"text-align: right;\">\n",
       "      <th></th>\n",
       "      <th>user_id</th>\n",
       "      <th>num_days</th>\n",
       "    </tr>\n",
       "  </thead>\n",
       "  <tbody>\n",
       "    <tr>\n",
       "      <th>0</th>\n",
       "      <td>6521210701805859401</td>\n",
       "      <td>10</td>\n",
       "    </tr>\n",
       "  </tbody>\n",
       "</table>\n",
       "</div>"
      ],
      "text/plain": [
       "               user_id  num_days\n",
       "0  6521210701805859401        10"
      ]
     },
     "execution_count": 23,
     "metadata": {},
     "output_type": "execute_result"
    }
   ],
   "source": [
    "query = \"\"\"\n",
    "WITH \n",
    "raw AS (\n",
    "    SELECT DISTINCT\n",
    "            fullVisitorId AS user_id, \n",
    "            DATE(TIMESTAMP_SECONDS(visitStartTime)) AS visit_day,\n",
    "    FROM `bigquery-public-data.google_analytics_sample.ga_sessions_2017011*`\n",
    "),\n",
    "visits AS (\n",
    "    SELECT  *,\n",
    "            ROW_NUMBER() OVER (PARTITION BY user_id ORDER BY visit_day) as rn\n",
    "    FROM raw\n",
    ")\n",
    "\n",
    "SELECT user_id, \n",
    "         COUNT(*) as num_days\n",
    "FROM visits\n",
    "GROUP BY user_id, DATE_ADD(visit_day, INTERVAL -rn DAY)\n",
    "HAVING COUNT(*) >= 7\n",
    "\"\"\"\n",
    "\n",
    "results = (\n",
    "    bqclient.query(query)\n",
    "            .result()\n",
    "            .to_dataframe(\n",
    "                bqstorage_client=bqstorageclient)\n",
    ")\n",
    "\n",
    "results"
   ]
  }
 ],
 "metadata": {
  "interpreter": {
   "hash": "aee8b7b246df8f9039afb4144a1f6fd8d2ca17a180786b69acc140d282b71a49"
  },
  "kernelspec": {
   "display_name": "Python 3.9.6 64-bit",
   "name": "python3"
  },
  "language_info": {
   "codemirror_mode": {
    "name": "ipython",
    "version": 3
   },
   "file_extension": ".py",
   "mimetype": "text/x-python",
   "name": "python",
   "nbconvert_exporter": "python",
   "pygments_lexer": "ipython3",
   "version": "3.9.6"
  },
  "orig_nbformat": 4
 },
 "nbformat": 4,
 "nbformat_minor": 2
}